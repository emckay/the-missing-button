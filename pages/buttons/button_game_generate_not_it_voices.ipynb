{
  "nbformat": 4,
  "nbformat_minor": 0,
  "metadata": {
    "colab": {
      "provenance": []
    },
    "kernelspec": {
      "name": "python3",
      "display_name": "Python 3"
    },
    "language_info": {
      "name": "python"
    }
  },
  "cells": [
    {
      "cell_type": "code",
      "execution_count": null,
      "metadata": {
        "id": "4AX8UjybWHvH"
      },
      "outputs": [],
      "source": [
        "!pip install elevenlabs\n"
      ]
    },
    {
      "cell_type": "code",
      "source": [
        "!rm -r *"
      ],
      "metadata": {
        "id": "O6WHEbZ6eAzN"
      },
      "execution_count": null,
      "outputs": []
    },
    {
      "cell_type": "code",
      "source": [
        "import os\n",
        "import requests\n",
        "import random\n",
        "from elevenlabs import set_api_key, generate, save, voices\n",
        "set_api_key(\"0d061a52856f44d4a1666a53d8d42b17\")\n",
        "\n",
        "starters = [\n",
        "    \"The one I'm looking for\",\n",
        "    \"My button\",\n",
        "    \"My missing button\",\n",
        "    \"The one I've lost\",\n",
        "    \"My lost button\",\n",
        "    \"The one I misplaced\",\n",
        "]\n",
        "\n",
        "adjectives = [\n",
        "    \"Red\",\n",
        "    \"Black\",\n",
        "    \"Blue\",\n",
        "    \"Small\",\n",
        "    \"Large\",\n",
        "    \"Two holes\",\n",
        "    \"Four holes\",\n",
        "    \"Square\",\n",
        "    \"Round\",\n",
        "]\n",
        "\n",
        "first_sentences = [\n",
        "    \"No, that's not my button.\",\n",
        "    \"Hmm, that doesn't look familiar.\",\n",
        "    \"That's not the one I lost.\",\n",
        "    \"No, my button was different.\",\n",
        "    \"That's not it.\",\n",
        "    \"This isn't it, sorry.\",\n",
        "    \"Nope, not my button.\",\n",
        "    \"Hmm, no.\",\n",
        "    \"No, it's not this one.\",\n",
        "    \"Sorry, but that's not the button I'm missing.\",\n",
        "]\n",
        "\n",
        "for adj in adjectives:\n",
        "    os.makedirs(adj.lower(), exist_ok=True)\n",
        "    selected_starters = random.sample(starters, 5)\n",
        "    selected_first_sentences = random.sample(first_sentences, 5)\n",
        "\n",
        "    for i, (starter, first_sentence) in enumerate(zip(selected_starters, selected_first_sentences), start=1):\n",
        "        # create the text\n",
        "        if \"holes\" in adj:\n",
        "            text = f\"{first_sentence} {starter} has {adj.lower()}\"\n",
        "        else:\n",
        "            text = f\"{first_sentence} {starter} is {adj.lower()}\"\n",
        "\n",
        "        filename = f\"./{adj.lower()}/{i}.mp3\"\n",
        "\n",
        "        audio = generate(\n",
        "          text=text,\n",
        "          voice=\"WuAH2CiYOWsbBbjKoWFn\",\n",
        "          model=\"eleven_monolingual_v1\"\n",
        "        )\n",
        "\n",
        "        save(audio, filename)\n"
      ],
      "metadata": {
        "id": "Mpzx7NoYcHK1"
      },
      "execution_count": null,
      "outputs": []
    },
    {
      "cell_type": "code",
      "source": [
        "!zip -r out.zip *"
      ],
      "metadata": {
        "id": "8FwZloGrf2hV"
      },
      "execution_count": null,
      "outputs": []
    }
  ]
}